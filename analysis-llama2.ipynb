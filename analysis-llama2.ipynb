{
 "cells": [
  {
   "cell_type": "code",
   "execution_count": 1,
   "metadata": {},
   "outputs": [],
   "source": [
    "import json\n",
    "import matplotlib.pyplot as plt\n",
    "import numpy as np\n",
    "import pandas as pd\n",
    "import seaborn as sns\n",
    "sns.set()"
   ]
  },
  {
   "cell_type": "code",
   "execution_count": 2,
   "metadata": {},
   "outputs": [],
   "source": [
    "results = {\n",
    "    'platform' : [],\n",
    "    'average' : [],\n",
    "    'p50' : [],\n",
    "    'p90' : []\n",
    "}"
   ]
  },
  {
   "cell_type": "code",
   "execution_count": 3,
   "metadata": {},
   "outputs": [],
   "source": [
    "with open('inference-analysis/llama2-7b/modal-llama-results.json', 'r') as f:\n",
    "    modal_dict = json.load(f)"
   ]
  },
  {
   "cell_type": "code",
   "execution_count": 5,
   "metadata": {},
   "outputs": [
    {
     "data": {
      "text/plain": [
       "dict_keys(['p1', 'p2', 'p3', 'p4', 'p5'])"
      ]
     },
     "execution_count": 5,
     "metadata": {},
     "output_type": "execute_result"
    }
   ],
   "source": [
    "modal_dict.keys()"
   ]
  },
  {
   "cell_type": "code",
   "execution_count": 31,
   "metadata": {},
   "outputs": [],
   "source": [
    "with open('inference-analysis/llama2-7b/modal-llama-results.json', 'r') as f:\n",
    "    modal_dict = json.load(f)\n",
    "    \n",
    "with open('inference-analysis/llama2-7b/baseten-llama-results.json', 'r') as f:\n",
    "    baseten_dict = json.load(f)\n",
    "      \n",
    "with open('inference-analysis/llama2-7b/hf-llama-results.json', 'r') as f:\n",
    "    hf_dict = json.load(f)\n",
    "    \n",
    "with open('inference-analysis/llama2-7b/runpod-llama-results.json', 'r') as f:\n",
    "    runpod_dict = json.load(f) \n",
    "    \n",
    "with open('inference-analysis/llama2-7b/replicate-llama-results.json', 'r') as f:\n",
    "    replicate_dict = json.load(f) "
   ]
  },
  {
   "cell_type": "code",
   "execution_count": 32,
   "metadata": {},
   "outputs": [],
   "source": [
    "def create_one(plat):\n",
    "    array = []\n",
    "    for key, value in plat.items():\n",
    "        array += value\n",
    "    return array"
   ]
  },
  {
   "cell_type": "code",
   "execution_count": 33,
   "metadata": {},
   "outputs": [],
   "source": [
    "all_plats = {}\n",
    "for name, plat_dict in [('modal', modal_dict), ('baseten', baseten_dict), ('hf', hf_dict), ('runpod', runpod_dict)]:\n",
    "    all_plats[name] = create_one(plat_dict)\n",
    "all_plats['replicate'] = replicate_dict['replicate']"
   ]
  },
  {
   "cell_type": "code",
   "execution_count": 34,
   "metadata": {},
   "outputs": [
    {
     "data": {
      "text/plain": [
       "dict_keys(['modal', 'baseten', 'hf', 'runpod', 'replicate'])"
      ]
     },
     "execution_count": 34,
     "metadata": {},
     "output_type": "execute_result"
    }
   ],
   "source": [
    "all_plats.keys()"
   ]
  },
  {
   "cell_type": "code",
   "execution_count": 35,
   "metadata": {},
   "outputs": [],
   "source": [
    "#GET AVERAGE, MEDIAN AND P90 FOR EACH PLATFORM\n",
    "\n",
    "results = {\n",
    "    'platform' : [],\n",
    "    'average' : [],\n",
    "    'p50' : [],\n",
    "    'p90' : []\n",
    "}\n",
    "\n",
    "for plat, values in all_plats.items():\n",
    "    results['platform'].append(plat)\n",
    "    results['average'].append(np.mean(values))\n",
    "    results['p50'].append(np.percentile(values, 50))\n",
    "    results['p90'].append(np.percentile(values, 90))"
   ]
  },
  {
   "cell_type": "code",
   "execution_count": 36,
   "metadata": {},
   "outputs": [
    {
     "data": {
      "text/html": [
       "<div>\n",
       "<style scoped>\n",
       "    .dataframe tbody tr th:only-of-type {\n",
       "        vertical-align: middle;\n",
       "    }\n",
       "\n",
       "    .dataframe tbody tr th {\n",
       "        vertical-align: top;\n",
       "    }\n",
       "\n",
       "    .dataframe thead th {\n",
       "        text-align: right;\n",
       "    }\n",
       "</style>\n",
       "<table border=\"1\" class=\"dataframe\">\n",
       "  <thead>\n",
       "    <tr style=\"text-align: right;\">\n",
       "      <th></th>\n",
       "      <th>platform</th>\n",
       "      <th>average</th>\n",
       "      <th>p50</th>\n",
       "      <th>p90</th>\n",
       "    </tr>\n",
       "  </thead>\n",
       "  <tbody>\n",
       "    <tr>\n",
       "      <th>0</th>\n",
       "      <td>modal</td>\n",
       "      <td>9.456537</td>\n",
       "      <td>8.475154</td>\n",
       "      <td>14.869233</td>\n",
       "    </tr>\n",
       "    <tr>\n",
       "      <th>1</th>\n",
       "      <td>baseten</td>\n",
       "      <td>8.852935</td>\n",
       "      <td>7.584930</td>\n",
       "      <td>13.380008</td>\n",
       "    </tr>\n",
       "    <tr>\n",
       "      <th>2</th>\n",
       "      <td>hf</td>\n",
       "      <td>8.997245</td>\n",
       "      <td>8.060723</td>\n",
       "      <td>16.502749</td>\n",
       "    </tr>\n",
       "    <tr>\n",
       "      <th>3</th>\n",
       "      <td>runpod</td>\n",
       "      <td>11.049534</td>\n",
       "      <td>9.494102</td>\n",
       "      <td>16.014234</td>\n",
       "    </tr>\n",
       "    <tr>\n",
       "      <th>4</th>\n",
       "      <td>replicate</td>\n",
       "      <td>6.947230</td>\n",
       "      <td>5.950246</td>\n",
       "      <td>10.410835</td>\n",
       "    </tr>\n",
       "  </tbody>\n",
       "</table>\n",
       "</div>"
      ],
      "text/plain": [
       "    platform    average       p50        p90\n",
       "0      modal   9.456537  8.475154  14.869233\n",
       "1    baseten   8.852935  7.584930  13.380008\n",
       "2         hf   8.997245  8.060723  16.502749\n",
       "3     runpod  11.049534  9.494102  16.014234\n",
       "4  replicate   6.947230  5.950246  10.410835"
      ]
     },
     "execution_count": 36,
     "metadata": {},
     "output_type": "execute_result"
    }
   ],
   "source": [
    "df = pd.DataFrame(results)\n",
    "df"
   ]
  },
  {
   "cell_type": "code",
   "execution_count": 37,
   "metadata": {},
   "outputs": [
    {
     "data": {
      "image/png": "[encoded data removed]",
      "text/plain": [
       "<Figure size 612.75x500 with 1 Axes>"
      ]
     },
     "metadata": {},
     "output_type": "display_data"
    }
   ],
   "source": [
    "tdf = pd.melt(df, id_vars=\"platform\", var_name=\"metric\", value_name='value')\n",
    "tdf\n",
    "\n",
    "sns.set_theme(style=\"whitegrid\")\n",
    "ax = sns.catplot(\n",
    "    data=tdf,\n",
    "    kind=\"bar\",\n",
    "    x=\"metric\",\n",
    "    y=\"value\",\n",
    "    hue=\"platform\"\n",
    ")\n",
    "ax.despine(left=True)\n",
    "ax.set_axis_labels(\"\", \"Inference Time(s)\")\n",
    "plt.show()"
   ]
  },
  {
   "cell_type": "markdown",
   "metadata": {},
   "source": [
    "### Average Inference Time"
   ]
  },
  {
   "cell_type": "code",
   "execution_count": 38,
   "metadata": {},
   "outputs": [
    {
     "data": {
      "image/png": "[encoded data removed]",
      "text/plain": [
       "<Figure size 640x480 with 1 Axes>"
      ]
     },
     "metadata": {},
     "output_type": "display_data"
    }
   ],
   "source": [
    "ax = sns.barplot(\n",
    "    data=df,\n",
    "    x=\"platform\",\n",
    "    y=\"average\"\n",
    ")\n",
    "\n",
    "for i in ax.containers:\n",
    "    ax.bar_label(i,fmt='%.2f')\n",
    "\n",
    "\n",
    "plt.ylabel('Execution Time (s)')\n",
    "plt.xlabel('')\n",
    "plt.title('Average Inference Time')\n",
    "\n",
    "plt.show()"
   ]
  }
 ],
 "metadata": {
  "kernelspec": {
   "display_name": "Python 3 (ipykernel)",
   "language": "python",
   "name": "python3"
  },
  "language_info": {
   "codemirror_mode": {
    "name": "ipython",
    "version": 3
   },
   "file_extension": ".py",
   "mimetype": "text/x-python",
   "name": "python",
   "nbconvert_exporter": "python",
   "pygments_lexer": "ipython3",
   "version": "3.8.13"
  }
 },
 "nbformat": 4,
 "nbformat_minor": 2
}

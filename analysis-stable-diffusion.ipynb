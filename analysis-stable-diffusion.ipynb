{
 "cells": [
  {
   "cell_type": "code",
   "execution_count": 1,
   "metadata": {},
   "outputs": [],
   "source": [
    "import json\n",
    "import matplotlib.pyplot as plt\n",
    "import numpy as np\n",
    "import pandas as pd\n",
    "import seaborn as sns\n",
    "sns.set()"
   ]
  },
  {
   "cell_type": "code",
   "execution_count": 2,
   "metadata": {},
   "outputs": [],
   "source": [
    "results = {\n",
    "    'platform' : [],\n",
    "    'average' : [],\n",
    "    'p50' : [],\n",
    "    'p90' : []\n",
    "}"
   ]
  },
  {
   "cell_type": "code",
   "execution_count": 20,
   "metadata": {},
   "outputs": [],
   "source": [
    "with open('inference-analysis/stable-diffusion/modal-sd-results.json', 'r') as f:\n",
    "    modal_dict = json.load(f)\n",
    "    \n",
    "with open('inference-analysis/stable-diffusion/baseten-sd-results.json', 'r') as f:\n",
    "    baseten_dict = json.load(f)\n",
    "      \n",
    "with open('inference-analysis/stable-diffusion/hf-sd-results.json', 'r') as f:\n",
    "    hf_dict = json.load(f)\n",
    "    \n",
    "with open('inference-analysis/stable-diffusion/runpod-sd-results.json', 'r') as f:\n",
    "    runpod_dict = json.load(f) \n",
    "    \n",
    "with open('inference-analysis/stable-diffusion/replicate-sd-results.json', 'r') as f:\n",
    "    replicate_dict = json.load(f) "
   ]
  },
  {
   "cell_type": "code",
   "execution_count": 21,
   "metadata": {},
   "outputs": [
    {
     "data": {
      "text/plain": [
       "dict_keys(['runpod'])"
      ]
     },
     "execution_count": 21,
     "metadata": {},
     "output_type": "execute_result"
    }
   ],
   "source": [
    "runpod_dict.keys()"
   ]
  },
  {
   "cell_type": "code",
   "execution_count": 22,
   "metadata": {},
   "outputs": [
    {
     "name": "stdout",
     "output_type": "stream",
     "text": [
      "modal 50\n",
      "baseten 50\n",
      "hf 50\n",
      "runpod 50\n",
      "replicate 31\n"
     ]
    }
   ],
   "source": [
    "all_plats = {}\n",
    "\n",
    "for plat_dicts in [modal_dict, baseten_dict, hf_dict, runpod_dict, replicate_dict]:\n",
    "    for key, value in plat_dicts.items():\n",
    "        print(key, len(value))\n",
    "        all_plats[key] = value"
   ]
  },
  {
   "cell_type": "code",
   "execution_count": 23,
   "metadata": {},
   "outputs": [
    {
     "data": {
      "text/plain": [
       "dict_keys(['modal', 'baseten', 'hf', 'runpod', 'replicate'])"
      ]
     },
     "execution_count": 23,
     "metadata": {},
     "output_type": "execute_result"
    }
   ],
   "source": [
    "all_plats.keys()"
   ]
  },
  {
   "cell_type": "code",
   "execution_count": 24,
   "metadata": {},
   "outputs": [],
   "source": [
    "#GET AVERAGE, MEDIAN AND P90 FOR EACH PLATFORM\n",
    "\n",
    "results = {\n",
    "    'platform' : [],\n",
    "    'average' : [],\n",
    "    'p50' : [],\n",
    "    'p90' : []\n",
    "}\n",
    "\n",
    "for plat, values in all_plats.items():\n",
    "    results['platform'].append(plat)\n",
    "    results['average'].append(np.mean(values))\n",
    "    results['p50'].append(np.percentile(values, 50))\n",
    "    results['p90'].append(np.percentile(values, 90))"
   ]
  },
  {
   "cell_type": "code",
   "execution_count": 25,
   "metadata": {},
   "outputs": [
    {
     "data": {
      "text/html": [
       "<div>\n",
       "<style scoped>\n",
       "    .dataframe tbody tr th:only-of-type {\n",
       "        vertical-align: middle;\n",
       "    }\n",
       "\n",
       "    .dataframe tbody tr th {\n",
       "        vertical-align: top;\n",
       "    }\n",
       "\n",
       "    .dataframe thead th {\n",
       "        text-align: right;\n",
       "    }\n",
       "</style>\n",
       "<table border=\"1\" class=\"dataframe\">\n",
       "  <thead>\n",
       "    <tr style=\"text-align: right;\">\n",
       "      <th></th>\n",
       "      <th>platform</th>\n",
       "      <th>average</th>\n",
       "      <th>p50</th>\n",
       "      <th>p90</th>\n",
       "    </tr>\n",
       "  </thead>\n",
       "  <tbody>\n",
       "    <tr>\n",
       "      <th>0</th>\n",
       "      <td>modal</td>\n",
       "      <td>10.046445</td>\n",
       "      <td>8.878691</td>\n",
       "      <td>13.851137</td>\n",
       "    </tr>\n",
       "    <tr>\n",
       "      <th>1</th>\n",
       "      <td>baseten</td>\n",
       "      <td>3.556596</td>\n",
       "      <td>3.552807</td>\n",
       "      <td>3.624724</td>\n",
       "    </tr>\n",
       "    <tr>\n",
       "      <th>2</th>\n",
       "      <td>hf</td>\n",
       "      <td>20.395515</td>\n",
       "      <td>20.347229</td>\n",
       "      <td>20.520732</td>\n",
       "    </tr>\n",
       "    <tr>\n",
       "      <th>3</th>\n",
       "      <td>runpod</td>\n",
       "      <td>30.360857</td>\n",
       "      <td>30.326202</td>\n",
       "      <td>30.540648</td>\n",
       "    </tr>\n",
       "    <tr>\n",
       "      <th>4</th>\n",
       "      <td>replicate</td>\n",
       "      <td>20.707645</td>\n",
       "      <td>20.579949</td>\n",
       "      <td>20.692763</td>\n",
       "    </tr>\n",
       "  </tbody>\n",
       "</table>\n",
       "</div>"
      ],
      "text/plain": [
       "    platform    average        p50        p90\n",
       "0      modal  10.046445   8.878691  13.851137\n",
       "1    baseten   3.556596   3.552807   3.624724\n",
       "2         hf  20.395515  20.347229  20.520732\n",
       "3     runpod  30.360857  30.326202  30.540648\n",
       "4  replicate  20.707645  20.579949  20.692763"
      ]
     },
     "execution_count": 25,
     "metadata": {},
     "output_type": "execute_result"
    }
   ],
   "source": [
    "df = pd.DataFrame(results)\n",
    "df"
   ]
  },
  {
   "cell_type": "code",
   "execution_count": 27,
   "metadata": {},
   "outputs": [
    {
     "data": {
      "image/png": "[encoded data removed]",
      "text/plain": [
       "<Figure size 612.75x500 with 1 Axes>"
      ]
     },
     "metadata": {},
     "output_type": "display_data"
    }
   ],
   "source": [
    "tdf = pd.melt(df, id_vars=\"platform\", var_name=\"metric\", value_name='value')\n",
    "tdf\n",
    "\n",
    "sns.set_theme(style=\"whitegrid\")\n",
    "ax = sns.catplot(\n",
    "    data=tdf,\n",
    "    kind=\"bar\",\n",
    "    x=\"metric\",\n",
    "    y=\"value\",\n",
    "    hue=\"platform\"\n",
    ")\n",
    "ax.despine(left=True)\n",
    "ax.set_axis_labels(\"\", \"Inference Time(s)\")\n",
    "plt.show()"
   ]
  },
  {
   "cell_type": "markdown",
   "metadata": {},
   "source": [
    "### Average Inference Time"
   ]
  },
  {
   "cell_type": "code",
   "execution_count": 26,
   "metadata": {},
   "outputs": [
    {
     "data": {
      "image/png": "[encoded data removed]",
      "text/plain": [
       "<Figure size 640x480 with 1 Axes>"
      ]
     },
     "metadata": {},
     "output_type": "display_data"
    }
   ],
   "source": [
    "ax = sns.barplot(\n",
    "    data=df,\n",
    "    x=\"platform\",\n",
    "    y=\"average\"\n",
    ")\n",
    "\n",
    "for i in ax.containers:\n",
    "    ax.bar_label(i,fmt='%.2f')\n",
    "\n",
    "\n",
    "plt.ylabel('Execution Time (s)')\n",
    "plt.xlabel('')\n",
    "plt.title('Average Inference Time')\n",
    "\n",
    "plt.show()"
   ]
  }
 ],
 "metadata": {
  "kernelspec": {
   "display_name": "Python 3 (ipykernel)",
   "language": "python",
   "name": "python3"
  },
  "language_info": {
   "codemirror_mode": {
    "name": "ipython",
    "version": 3
   },
   "file_extension": ".py",
   "mimetype": "text/x-python",
   "name": "python",
   "nbconvert_exporter": "python",
   "pygments_lexer": "ipython3",
   "version": "3.8.13"
  }
 },
 "nbformat": 4,
 "nbformat_minor": 2
}
